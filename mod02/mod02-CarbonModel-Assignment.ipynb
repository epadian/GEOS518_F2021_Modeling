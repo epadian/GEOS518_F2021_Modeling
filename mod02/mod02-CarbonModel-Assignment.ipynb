{
 "cells": [
  {
   "cell_type": "markdown",
   "metadata": {},
   "source": [
    "# Module 02: A Box Model Carbon Assignment\n",
    "\n",
    "### 1. Introduction\n",
    "\n",
    "In the accompanying notebook [mod02-CarbonModel1.ipynb](./mod02-CarbonModel1.ipynb) and in class we developed a relatively simple model of global carbon balance that assumed that tracked carbon in the atmosphere and biosphere. The system of equations we developed to describe this system are shown below,\n",
    "\n",
    "$$\n",
    "\\begin{align*}\n",
    "\\frac{dM_1}{dt} &= F_{21} - F_{12}\\\\\n",
    "&= k_{21}M_2 - k_{12}M_1\n",
    "\\end{align*}\n",
    "$$\n",
    "\n",
    "and,\n",
    "\n",
    "$$\n",
    "\\begin{align*}\n",
    "\\frac{dM_2}{dt} &= F_{12} - F_{21}\\\\\n",
    "&= k_{12}M_1 - k_{21}M_2\n",
    "\\end{align*}\n",
    "$$\n",
    "\n",
    "where $M_1$ is the mass of carbon in the atmosphere (GtC), $M_2$ is the mass of carbon in the biosphere (GtC), $F_{12}$ is the flux of carbon from the atmosphere to the biosphere due to photosynthesis (GtC/yr), and $F_{21}$ is the flux of carbon from the biosphere to the atmosphere due to decay and respiration (GtC/yr).\n",
    "\n",
    "In that notebook we develop a numerical model to describe that system, run it for given initial conditions and with no external inputs of carbon (we call this an \"unforced\" scenario) and compare it to the analytical solution. We observed that as the time step increased, we departed further from the analytical solution. \n",
    "\n",
    "In this assignment you will take your model one step more realistic by ensuring that the photosynthetic flux depends on both the amount of carbon in the atmosphere and in the biosphere. Then you will examine the impact of anthropogenic emissions from 1751-2008 on the biosphere and atmosphere, and how alternative future scenarios of emissions mitigation affect your system. \n",
    "\n",
    "The code cell below contains a couple of new commands and some file names that you will need in this assignment. You will need all of these commands, _but not necessarily"
   ]
  },
  {
   "cell_type": "code",
   "execution_count": null,
   "metadata": {},
   "outputs": [],
   "source": [
    "import numpy as np\n",
    "import matplotlib.pyplot as plt\n",
    "\n",
    "historical_emissions_file = 'AnthropogenicEmissions.1751_2008.csv'\n",
    "data = np.loadtxt(historical_emissions_file, delimiter=',', skiprows=1)\n",
    "# Read this documentation to understand what this command does: \n",
    "#    https://numpy.org/doc/stable/reference/generated/numpy.loadtxt.html\n",
    "year = data[:,0]\n",
    "cflux = data[:,1]\n",
    "\n",
    "cflux_t = np.interp(t, year, cflux)\n",
    "# Read this documentation to understand what this command does: \n",
    "#    https://numpy.org/doc/stable/reference/generated/numpy.interp.html\n",
    "\n",
    "np.diff(M1)\n",
    "# Read this documentation to understand what this command does: \n",
    "#    https://numpy.org/doc/stable/reference/generated/numpy.diff.html"
   ]
  },
  {
   "cell_type": "markdown",
   "metadata": {},
   "source": [
    "## 2. Assignment Tasks\n",
    "\n",
    "For all plots, label all axes and provide units.\n",
    "\n",
    "__Problem A: Modify and rerun the model__\n",
    "\n",
    "1. Modify the model so that the photosynthesis flux includes the mass of carbon in the land (i.e., $M_2$). Use the following parameters:\n",
    "\n",
    "  * $M_1^0$ = 1100.0 \n",
    "  * $M_2^0$ = 300.0 \n",
    "  * $k_{12}$ = 0.0003 \n",
    "  * $k_{21}$ = 0.1  \n",
    "\n",
    "2. Repeat the \"unforced\" (i.e., no anthropogenic emissions) simulation above, but run the model for `t = 100` years with a daily time step (i.e., `dt = 1/365`)\n",
    "3. Use the `print()` command to print out the value of $M_1$ and $M_2$ at the end of the simulation\n",
    "\n",
    "__Problem B: Examine impacts of human emissions__\n",
    "\n",
    "1. Load the anthropogenic emissions data for 1751-2008 (see numpy `np.loadtxt()` command usage [here](https://numpy.org/doc/stable/reference/generated/numpy.loadtxt.html)). Note that the data is in a comma separated variable file (named `AnthropogenicEmissions.1751_2008.csv`) with one header row.\n",
    "2. Plot the anthropogenic emissions data  \n",
    "3. Starting from the initial conditions ($M_1^0$ and $M_2^0$) corresponding to the final conditions noted in part __A(3)__ above, simulate the response of the carbon system to the anthropogenic emissions from 1751 to 2008 by adding an appropriate source term in the system of equations. Create the following plots:\n",
    "\n",
    "  * Mass of C in the atmosphere versus time \n",
    "  * Mass of C in the land versus time \n",
    "  * The change in mass of C in the atmosphere vs time \n",
    "  * The change in mass of C in the biosphere vs time \n",
    "    \n",
    "4. Use the `print()` command to print out the value of $M_1$ and $M_2$ at the end of the simulation in 2008.\n",
    "\n",
    "__Problem C: Examine the effects of mitigation__\n",
    "\n",
    "1. Load the alternative emission scenarios contained in the file `.csv`, which represent three pathways to net zero emissions: (a) net zero emissions by the year 2030 (column 2), (c) net zero emissions by 2050 (column 3), and zero emissions growth (i.e., constant emissions) starting in 2008 (column 4).\n",
    "2. Starting from the initial conditions ($M_1^0$ and $M_2^0$) corresponding to the final conditions noted in part __B(4)__ above, run the model three times, one for each scenario. Create the following plots: \n",
    "\n",
    "  * Mass of C in the atmosphere versus time (all three scenarios on one plot)\n",
    "  * Mass of C in the land versus time (all three scenarios on one plot)\n",
    "  * The change in mass of C in the atmosphere vs time \n",
    "  * The change in mass of C in the biosphere vs time \n"
   ]
  },
  {
   "cell_type": "code",
   "execution_count": 3,
   "metadata": {},
   "outputs": [
    {
     "name": "stdout",
     "output_type": "stream",
     "text": [
      "t has 36501 time steps\n",
      "Mass of Carbon in the Atmosphere [GtC]\n",
      "1395.799547307703\n",
      "Mass of Carbon in the Land/Ocean [GtC]\n",
      "4.200452692299009\n"
     ]
    }
   ],
   "source": [
    "#### Problem A ####\n",
    "\n",
    "import numpy as np\n",
    "import matplotlib.pyplot as plt\n",
    "\n",
    "M1i = 1100.0    # Mass of carbon in atmosphere [Gigatons of Carbon, GtC]\n",
    "M2i = 300.0     # Mass of carbon in \"land/ocean\" [GtC]\n",
    "\n",
    "k12 = 0.0003    # Constant to describe land/ocean to atmosphere flux [1/yr] \"turnover time or resonance time\" [this is larger]\n",
    "k21 = 0.1       # Constant to describe atmosphere to land/ocean flux [1/yr] \"turnover time or resonance time\"\n",
    "\n",
    "ti = 0.0        # Initial time step [years]\n",
    "tf = 100.0      # Final time step [years]\n",
    "dt = 1/365      # Time step interval\n",
    "\n",
    "t = np.arange(ti,tf+dt,dt)                        # Arrange the time steps\n",
    "\n",
    "Nt = t.size                                       # Establish the length of time\n",
    "\n",
    "print('t has '+str(Nt)+' time steps')    # Display the number of time steps we are using\n",
    "\n",
    "M1 = np.zeros((Nt,))     # Create empty array to fill in for mass of carbon in atmosphere\n",
    "M2 = np.zeros((Nt,))     # Create empty array to fill in for mass of carbon in the land/ocean\n",
    "\n",
    "# This is the numerical solution\n",
    "\n",
    "for i in np.arange(Nt):                        # Using a for loop, go through each equal time step in Nt and complete below\n",
    "    if (i==0):                                 # If i = 0, then the mass in each \"bin\" equals the initial conditions\n",
    "\n",
    "        M1[i] = M1i                            # Mass of carbon in atmosphere at time step 0 in array M1 is initial condition\n",
    "        M2[i] = M2i                            # Mass of carbon in land/ocean at time step 0 in array M2 is initial condition\n",
    "        \n",
    "    else:                                      # If i /= 0, then complete the calculations below\n",
    "        dM1dt = k21*M2[i-1] - k12*M1[i-1]      # Change in carbon in atmos wrt at i-1 equation\n",
    "        dM2dt = k12*M1[i-1] - k21*M2[i-1]      # Change in carbon in land/ocean wrt at i-1 equation\n",
    "        \n",
    "        M1[i] = M1[i-1] + dM1dt*dt             # Insert value into M1 array of previous value plus the change calculated above\n",
    "        M2[i] = M2[i-1] + dM2dt*dt             # Insert value into M2 array of previous value plus the change calculated above\n",
    "        \n",
    "\n",
    "l1=len(M1)\n",
    "l2=len(M2)\n",
    "print(\"Mass of Carbon in the Atmosphere [GtC]\")\n",
    "print(M1[l1-1])\n",
    "print(\"Mass of Carbon in the Land/Ocean [GtC]\")\n",
    "print(M2[l2-1])"
   ]
  },
  {
   "cell_type": "code",
   "execution_count": null,
   "metadata": {},
   "outputs": [],
   "source": [
    "#### Problem B ####\n"
   ]
  },
  {
   "cell_type": "code",
   "execution_count": null,
   "metadata": {},
   "outputs": [],
   "source": [
    "future_emissions_file = 'EmissionsMitigationScenarios.csv'\n",
    "\n",
    "data = np.loadtxt()\n",
    "year = data[:,0]\n",
    "cflux_nz2030 = data[:,1]\n",
    "cflux_nz2050 = data[:,2]\n",
    "cflux_zeg = data[:,3]"
   ]
  }
 ],
 "metadata": {
  "kernelspec": {
   "display_name": "Python 3",
   "language": "python",
   "name": "python3"
  },
  "language_info": {
   "codemirror_mode": {
    "name": "ipython",
    "version": 3
   },
   "file_extension": ".py",
   "mimetype": "text/x-python",
   "name": "python",
   "nbconvert_exporter": "python",
   "pygments_lexer": "ipython3",
   "version": "3.8.8"
  }
 },
 "nbformat": 4,
 "nbformat_minor": 4
}
